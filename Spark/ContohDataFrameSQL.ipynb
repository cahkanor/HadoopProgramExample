{
 "cells": [
  {
   "cell_type": "code",
   "execution_count": 16,
   "metadata": {},
   "outputs": [],
   "source": [
    "sc.stop()"
   ]
  },
  {
   "cell_type": "code",
   "execution_count": 14,
   "metadata": {},
   "outputs": [],
   "source": [
    "import urllib\n",
    "f = urllib.urlretrieve (\"http://malifauzi.lecture.ub.ac.id/files/2019/05/data_pemain.zip\", \"data_pemain2.zip\")"
   ]
  },
  {
   "cell_type": "code",
   "execution_count": 2,
   "metadata": {},
   "outputs": [
    {
     "name": "stdout",
     "output_type": "stream",
     "text": [
      "+-----------------+-------------------+-------------+\n",
      "|             Name|               Club|Jersey Number|\n",
      "+-----------------+-------------------+-------------+\n",
      "|         L. Messi|       FC Barcelona|           10|\n",
      "|Cristiano Ronaldo|           Juventus|            7|\n",
      "|        Neymar Jr|Paris Saint-Germain|           10|\n",
      "|           De Gea|  Manchester United|            1|\n",
      "|     K. De Bruyne|    Manchester City|            7|\n",
      "|        E. Hazard|            Chelsea|           10|\n",
      "|        L. Modri?|        Real Madrid|           10|\n",
      "|        L. Su�rez|       FC Barcelona|            9|\n",
      "|     Sergio Ramos|        Real Madrid|           15|\n",
      "|         J. Oblak|    Atl�tico Madrid|            1|\n",
      "|   R. Lewandowski|  FC Bayern M�nchen|            9|\n",
      "|         T. Kroos|        Real Madrid|            8|\n",
      "|         D. God�n|    Atl�tico Madrid|           10|\n",
      "|      David Silva|    Manchester City|           21|\n",
      "|         N. Kant�|            Chelsea|           13|\n",
      "|        P. Dybala|           Juventus|           21|\n",
      "|          H. Kane|  Tottenham Hotspur|            9|\n",
      "|     A. Griezmann|    Atl�tico Madrid|            7|\n",
      "|    M. ter Stegen|       FC Barcelona|           22|\n",
      "|      T. Courtois|        Real Madrid|            1|\n",
      "+-----------------+-------------------+-------------+\n",
      "only showing top 20 rows\n",
      "\n",
      "+---+------+-----------------+---+--------------------+-----------+--------------------+-------+---------+-------------------+--------------------+-------+-----+-------+--------------+------------------------+---------+-----------+--------------+----------+---------+--------+-------------+---------+-----------+--------------------+------+------+----+----+----+----+----+----+----+----+----+----+----+----+----+----+----+----+----+----+----+----+----+----+----+----+----+----+--------+---------+---------------+------------+-------+---------+-----+----------+-----------+-----------+------------+-----------+-------+---------+-------+---------+-------+-------+--------+---------+----------+-------------+-----------+------+---------+---------+-------+--------------+-------------+--------+----------+---------+-------------+----------+--------------+\n",
      "|_c0|    ID|             Name|Age|               Photo|Nationality|                Flag|Overall|Potential|               Club|           Club Logo|  Value| Wage|Special|Preferred Foot|International Reputation|Weak Foot|Skill Moves|     Work Rate| Body Type|Real Face|Position|Jersey Number|   Joined|Loaned From|Contract Valid Until|Height|Weight|  LS|  ST|  RS|  LW|  LF|  CF|  RF|  RW| LAM| CAM| RAM|  LM| LCM|  CM| RCM|  RM| LWB| LDM| CDM| RDM| RWB|  LB| LCB|  CB| RCB|  RB|Crossing|Finishing|HeadingAccuracy|ShortPassing|Volleys|Dribbling|Curve|FKAccuracy|LongPassing|BallControl|Acceleration|SprintSpeed|Agility|Reactions|Balance|ShotPower|Jumping|Stamina|Strength|LongShots|Aggression|Interceptions|Positioning|Vision|Penalties|Composure|Marking|StandingTackle|SlidingTackle|GKDiving|GKHandling|GKKicking|GKPositioning|GKReflexes|Release Clause|\n",
      "+---+------+-----------------+---+--------------------+-----------+--------------------+-------+---------+-------------------+--------------------+-------+-----+-------+--------------+------------------------+---------+-----------+--------------+----------+---------+--------+-------------+---------+-----------+--------------------+------+------+----+----+----+----+----+----+----+----+----+----+----+----+----+----+----+----+----+----+----+----+----+----+----+----+----+----+--------+---------+---------------+------------+-------+---------+-----+----------+-----------+-----------+------------+-----------+-------+---------+-------+---------+-------+-------+--------+---------+----------+-------------+-----------+------+---------+---------+-------+--------------+-------------+--------+----------+---------+-------------+----------+--------------+\n",
      "|  0|158023|         L. Messi| 31|https://cdn.sofif...|  Argentina|https://cdn.sofif...|     94|       94|       FC Barcelona|https://cdn.sofif...|�110.5M|�565K|   2202|          Left|                       5|        4|          4|Medium/ Medium|     Messi|      Yes|      RF|           10| 1-Jul-04|       null|                2021|   5'7|159lbs|88+2|88+2|88+2|92+2|93+2|93+2|93+2|92+2|93+2|93+2|93+2|91+2|84+2|84+2|84+2|91+2|64+2|61+2|61+2|61+2|64+2|59+2|47+2|47+2|47+2|59+2|      84|       95|             70|          90|     86|       97|   93|        94|         87|         96|          91|         86|     91|       95|     95|       85|     68|     72|      59|       94|        48|           22|         94|    94|       75|       96|     33|            28|           26|       6|        11|       15|           14|         8|       �226.5M|\n",
      "|  1| 20801|Cristiano Ronaldo| 33|https://cdn.sofif...|   Portugal|https://cdn.sofif...|     94|       94|           Juventus|https://cdn.sofif...|   �77M|�405K|   2228|         Right|                       5|        4|          5|     High/ Low|C. Ronaldo|      Yes|      ST|            7|10-Jul-18|       null|                2022|   6'2|183lbs|91+3|91+3|91+3|89+3|90+3|90+3|90+3|89+3|88+3|88+3|88+3|88+3|81+3|81+3|81+3|88+3|65+3|61+3|61+3|61+3|65+3|61+3|53+3|53+3|53+3|61+3|      84|       94|             89|          81|     87|       88|   81|        76|         77|         94|          89|         91|     87|       96|     70|       95|     95|     88|      79|       93|        63|           29|         95|    82|       85|       95|     28|            31|           23|       7|        11|       15|           14|        11|       �127.1M|\n",
      "|  2|190871|        Neymar Jr| 26|https://cdn.sofif...|     Brazil|https://cdn.sofif...|     92|       93|Paris Saint-Germain|https://cdn.sofif...|�118.5M|�290K|   2143|         Right|                       5|        5|          5|  High/ Medium|    Neymar|      Yes|      LW|           10| 3-Aug-17|       null|                2022|   5'9|150lbs|84+3|84+3|84+3|89+3|89+3|89+3|89+3|89+3|89+3|89+3|89+3|88+3|81+3|81+3|81+3|88+3|65+3|60+3|60+3|60+3|65+3|60+3|47+3|47+3|47+3|60+3|      79|       87|             62|          84|     84|       96|   88|        87|         78|         95|          94|         90|     96|       94|     84|       80|     61|     81|      49|       82|        56|           36|         89|    87|       81|       94|     27|            24|           33|       9|         9|       15|           15|        11|       �228.1M|\n",
      "|  3|193080|           De Gea| 27|https://cdn.sofif...|      Spain|https://cdn.sofif...|     91|       93|  Manchester United|https://cdn.sofif...|   �72M|�260K|   1471|         Right|                       4|        3|          1|Medium/ Medium|      Lean|      Yes|      GK|            1| 1-Jul-11|       null|                2020|   6'4|168lbs|null|null|null|null|null|null|null|null|null|null|null|null|null|null|null|null|null|null|null|null|null|null|null|null|null|null|      17|       13|             21|          50|     13|       18|   21|        19|         51|         42|          57|         58|     60|       90|     43|       31|     67|     43|      64|       12|        38|           30|         12|    68|       40|       68|     15|            21|           13|      90|        85|       87|           88|        94|       �138.6M|\n",
      "|  4|192985|     K. De Bruyne| 27|https://cdn.sofif...|    Belgium|https://cdn.sofif...|     91|       92|    Manchester City|https://cdn.sofif...|  �102M|�355K|   2281|         Right|                       4|        5|          4|    High/ High|    Normal|      Yes|     RCM|            7|30-Aug-15|       null|                2023|  5'11|154lbs|82+3|82+3|82+3|87+3|87+3|87+3|87+3|87+3|88+3|88+3|88+3|88+3|87+3|87+3|87+3|88+3|77+3|77+3|77+3|77+3|77+3|73+3|66+3|66+3|66+3|73+3|      93|       82|             55|          92|     82|       86|   85|        83|         91|         91|          78|         76|     79|       91|     77|       91|     63|     90|      75|       91|        76|           61|         87|    94|       79|       88|     68|            58|           51|      15|        13|        5|           10|        13|       �196.4M|\n",
      "|  5|183277|        E. Hazard| 27|https://cdn.sofif...|    Belgium|https://cdn.sofif...|     91|       91|            Chelsea|https://cdn.sofif...|   �93M|�340K|   2142|         Right|                       4|        4|          4|  High/ Medium|    Normal|      Yes|      LF|           10| 1-Jul-12|       null|                2020|   5'8|163lbs|83+3|83+3|83+3|89+3|88+3|88+3|88+3|89+3|89+3|89+3|89+3|89+3|82+3|82+3|82+3|89+3|66+3|63+3|63+3|63+3|66+3|60+3|49+3|49+3|49+3|60+3|      81|       84|             61|          89|     80|       95|   83|        79|         83|         94|          94|         88|     95|       90|     94|       82|     56|     83|      66|       80|        54|           41|         87|    89|       86|       91|     34|            27|           22|      11|        12|        6|            8|         8|       �172.1M|\n",
      "|  6|177003|        L. Modri?| 32|https://cdn.sofif...|    Croatia|https://cdn.sofif...|     91|       91|        Real Madrid|https://cdn.sofif...|   �67M|�420K|   2280|         Right|                       4|        4|          4|    High/ High|      Lean|      Yes|     RCM|           10| 1-Aug-12|       null|                2020|   5'8|146lbs|77+3|77+3|77+3|85+3|84+3|84+3|84+3|85+3|87+3|87+3|87+3|86+3|88+3|88+3|88+3|86+3|82+3|81+3|81+3|81+3|82+3|79+3|71+3|71+3|71+3|79+3|      86|       72|             55|          93|     76|       90|   85|        78|         88|         93|          80|         72|     93|       90|     94|       79|     68|     89|      58|       82|        62|           83|         79|    92|       82|       84|     60|            76|           73|      13|         9|        7|           14|         9|       �137.4M|\n",
      "|  7|176580|        L. Su�rez| 31|https://cdn.sofif...|    Uruguay|https://cdn.sofif...|     91|       91|       FC Barcelona|https://cdn.sofif...|   �80M|�455K|   2346|         Right|                       5|        4|          3|  High/ Medium|    Normal|      Yes|      RS|            9|11-Jul-14|       null|                2021|   6'0|190lbs|87+5|87+5|87+5|86+5|87+5|87+5|87+5|86+5|85+5|85+5|85+5|84+5|79+5|79+5|79+5|84+5|69+5|68+5|68+5|68+5|69+5|66+5|63+5|63+5|63+5|66+5|      77|       93|             77|          82|     88|       87|   86|        84|         64|         90|          86|         75|     82|       92|     83|       86|     69|     90|      83|       85|        87|           41|         92|    84|       85|       85|     62|            45|           38|      27|        25|       31|           33|        37|         �164M|\n",
      "|  8|155862|     Sergio Ramos| 32|https://cdn.sofif...|      Spain|https://cdn.sofif...|     91|       91|        Real Madrid|https://cdn.sofif...|   �51M|�380K|   2201|         Right|                       4|        3|          3|  High/ Medium|    Normal|      Yes|     RCB|           15| 1-Aug-05|       null|                2020|   6'0|181lbs|73+3|73+3|73+3|70+3|71+3|71+3|71+3|70+3|71+3|71+3|71+3|72+3|75+3|75+3|75+3|72+3|81+3|84+3|84+3|84+3|81+3|84+3|87+3|87+3|87+3|84+3|      66|       60|             91|          78|     66|       63|   74|        72|         77|         84|          76|         75|     78|       85|     66|       79|     93|     84|      83|       59|        88|           90|         60|    63|       75|       82|     87|            92|           91|      11|         8|        9|            7|        11|       �104.6M|\n",
      "|  9|200389|         J. Oblak| 25|https://cdn.sofif...|   Slovenia|https://cdn.sofif...|     90|       93|    Atl�tico Madrid|https://cdn.sofif...|   �68M| �94K|   1331|         Right|                       3|        3|          1|Medium/ Medium|    Normal|      Yes|      GK|            1|16-Jul-14|       null|                2021|   6'2|192lbs|null|null|null|null|null|null|null|null|null|null|null|null|null|null|null|null|null|null|null|null|null|null|null|null|null|null|      13|       11|             15|          29|     13|       12|   13|        14|         26|         16|          43|         60|     67|       86|     49|       22|     76|     41|      78|       12|        34|           19|         11|    70|       11|       70|     27|            12|           18|      86|        92|       78|           88|        89|       �144.5M|\n",
      "| 10|188545|   R. Lewandowski| 29|https://cdn.sofif...|     Poland|https://cdn.sofif...|     90|       90|  FC Bayern M�nchen|https://cdn.sofif...|   �77M|�205K|   2152|         Right|                       4|        4|          4|  High/ Medium|    Normal|      Yes|      ST|            9| 1-Jul-14|       null|                2021|   6'0|176lbs|87+3|87+3|87+3|83+3|86+3|86+3|86+3|83+3|83+3|83+3|83+3|81+3|77+3|77+3|77+3|81+3|61+3|62+3|62+3|62+3|61+3|58+3|57+3|57+3|57+3|58+3|      62|       91|             85|          83|     89|       85|   77|        86|         65|         89|          77|         78|     78|       90|     78|       88|     84|     78|      84|       84|        80|           39|         91|    77|       88|       86|     34|            42|           19|      15|         6|       12|            8|        10|       �127.1M|\n",
      "| 11|182521|         T. Kroos| 28|https://cdn.sofif...|    Germany|https://cdn.sofif...|     90|       90|        Real Madrid|https://cdn.sofif...| �76.5M|�355K|   2190|         Right|                       4|        5|          3|Medium/ Medium|    Normal|      Yes|     LCM|            8|17-Jul-14|       null|                2022|   6'0|168lbs|78+3|78+3|78+3|81+3|82+3|82+3|82+3|81+3|84+3|84+3|84+3|82+3|86+3|86+3|86+3|82+3|79+3|82+3|82+3|82+3|79+3|77+3|72+3|72+3|72+3|77+3|      88|       76|             54|          92|     82|       81|   86|        84|         93|         90|          64|         62|     70|       89|     71|       87|     30|     75|      73|       92|        60|           82|         79|    86|       73|       85|     72|            79|           69|      10|        11|       13|            7|        10|       �156.8M|\n",
      "| 12|182493|         D. God�n| 32|https://cdn.sofif...|    Uruguay|https://cdn.sofif...|     90|       90|    Atl�tico Madrid|https://cdn.sofif...|   �44M|�125K|   1946|         Right|                       3|        3|          2|  Medium/ High|      Lean|      Yes|      CB|           10| 4-Aug-10|       null|                2019|   6'2|172lbs|64+3|64+3|64+3|61+3|62+3|62+3|62+3|61+3|62+3|62+3|62+3|63+3|68+3|68+3|68+3|63+3|76+3|81+3|81+3|81+3|76+3|79+3|87+3|87+3|87+3|79+3|      55|       42|             92|          79|     47|       53|   49|        51|         70|         76|          68|         68|     58|       85|     54|       67|     91|     66|      88|       43|        89|           88|         48|    52|       50|       82|     90|            89|           89|       6|         8|       15|            5|        15|        �90.2M|\n",
      "| 13|168542|      David Silva| 32|https://cdn.sofif...|      Spain|https://cdn.sofif...|     90|       90|    Manchester City|https://cdn.sofif...|   �60M|�285K|   2115|          Left|                       4|        2|          4|  High/ Medium|    Normal|      Yes|     LCM|           21|14-Jul-10|       null|                2020|   5'8|148lbs|77+3|77+3|77+3|85+3|84+3|84+3|84+3|85+3|87+3|87+3|87+3|85+3|85+3|85+3|85+3|85+3|69+3|70+3|70+3|70+3|69+3|64+3|57+3|57+3|57+3|64+3|      84|       76|             54|          93|     82|       89|   82|        77|         87|         94|          70|         64|     92|       90|     90|       72|     64|     78|      52|       75|        57|           50|         89|    92|       75|       93|     59|            53|           29|       6|        15|        7|            6|        12|         �111M|\n",
      "| 14|215914|         N. Kant�| 27|https://cdn.sofif...|     France|https://cdn.sofif...|     89|       90|            Chelsea|https://cdn.sofif...|   �63M|�225K|   2189|         Right|                       3|        3|          2|  Medium/ High|      Lean|      Yes|     LDM|           13|16-Jul-16|       null|                2023|   5'6|159lbs|72+3|72+3|72+3|77+3|77+3|77+3|77+3|77+3|79+3|79+3|79+3|79+3|82+3|82+3|82+3|79+3|85+3|87+3|87+3|87+3|85+3|84+3|83+3|83+3|83+3|84+3|      68|       65|             54|          86|     56|       79|   49|        49|         81|         80|          82|         78|     82|       93|     92|       71|     77|     96|      76|       69|        90|           92|         71|    79|       54|       85|     90|            91|           85|      15|        12|       10|            7|        10|       �121.3M|\n",
      "| 15|211110|        P. Dybala| 24|https://cdn.sofif...|  Argentina|https://cdn.sofif...|     89|       94|           Juventus|https://cdn.sofif...|   �89M|�205K|   2092|          Left|                       3|        3|          4|  High/ Medium|    Normal|      Yes|      LF|           21| 1-Jul-15|       null|                2022|  5'10|165lbs|83+3|83+3|83+3|87+3|86+3|86+3|86+3|87+3|87+3|87+3|87+3|86+3|79+3|79+3|79+3|86+3|62+3|58+3|58+3|58+3|62+3|56+3|45+3|45+3|45+3|56+3|      82|       84|             68|          87|     88|       92|   88|        88|         75|         92|          87|         83|     91|       86|     85|       82|     75|     80|      65|       88|        48|           32|         84|    87|       86|       84|     23|            20|           20|       5|         4|        4|            5|         8|       �153.5M|\n",
      "| 16|202126|          H. Kane| 24|https://cdn.sofif...|    England|https://cdn.sofif...|     89|       91|  Tottenham Hotspur|https://cdn.sofif...| �83.5M|�205K|   2165|         Right|                       3|        4|          3|    High/ High|    Normal|      Yes|      ST|            9| 1-Jul-10|       null|                2024|   6'2|196lbs|86+3|86+3|86+3|82+3|84+3|84+3|84+3|82+3|82+3|82+3|82+3|81+3|79+3|79+3|79+3|81+3|65+3|66+3|66+3|66+3|65+3|62+3|60+3|60+3|60+3|62+3|      75|       94|             85|          80|     84|       80|   78|        68|         82|         84|          68|         72|     71|       91|     71|       88|     78|     89|      84|       85|        76|           35|         93|    80|       90|       89|     56|            36|           38|       8|        10|       11|           14|        11|       �160.7M|\n",
      "| 17|194765|     A. Griezmann| 27|https://cdn.sofif...|     France|https://cdn.sofif...|     89|       90|    Atl�tico Madrid|https://cdn.sofif...|   �78M|�145K|   2246|          Left|                       4|        3|          4|    High/ High|      Lean|      Yes|     CAM|            7|28-Jul-14|       null|                2023|   5'9|161lbs|86+3|86+3|86+3|87+3|87+3|87+3|87+3|87+3|86+3|86+3|86+3|86+3|80+3|80+3|80+3|86+3|70+3|67+3|67+3|67+3|70+3|67+3|61+3|61+3|61+3|67+3|      82|       90|             84|          83|     87|       88|   84|        78|         76|         90|          88|         85|     90|       90|     80|       80|     90|     83|      62|       82|        69|           35|         91|    83|       79|       87|     59|            47|           48|      14|         8|       14|           13|        14|       �165.8M|\n",
      "| 18|192448|    M. ter Stegen| 26|https://cdn.sofif...|    Germany|https://cdn.sofif...|     89|       92|       FC Barcelona|https://cdn.sofif...|   �58M|�240K|   1328|         Right|                       3|        4|          1|Medium/ Medium|    Normal|      Yes|      GK|           22| 1-Jul-14|       null|                2022|   6'2|187lbs|null|null|null|null|null|null|null|null|null|null|null|null|null|null|null|null|null|null|null|null|null|null|null|null|null|null|      15|       14|             11|          36|     14|       17|   18|        12|         42|         18|          38|         50|     37|       85|     43|       22|     79|     35|      79|       10|        43|           22|         11|    69|       25|       69|     25|            13|           10|      87|        85|       88|           85|        90|       �123.3M|\n",
      "| 19|192119|      T. Courtois| 26|https://cdn.sofif...|    Belgium|https://cdn.sofif...|     89|       90|        Real Madrid|https://cdn.sofif...| �53.5M|�240K|   1311|          Left|                       4|        2|          1|Medium/ Medium|  Courtois|      Yes|      GK|            1| 9-Aug-18|       null|                2024|   6'6|212lbs|null|null|null|null|null|null|null|null|null|null|null|null|null|null|null|null|null|null|null|null|null|null|null|null|null|null|      14|       14|             13|          33|     12|       13|   19|        20|         35|         23|          46|         52|     61|       84|     45|       36|     68|     38|      70|       17|        23|           15|         13|    44|       27|       66|     20|            18|           16|      85|        91|       72|           86|        88|       �113.7M|\n",
      "+---+------+-----------------+---+--------------------+-----------+--------------------+-------+---------+-------------------+--------------------+-------+-----+-------+--------------+------------------------+---------+-----------+--------------+----------+---------+--------+-------------+---------+-----------+--------------------+------+------+----+----+----+----+----+----+----+----+----+----+----+----+----+----+----+----+----+----+----+----+----+----+----+----+----+----+--------+---------+---------------+------------+-------+---------+-----+----------+-----------+-----------+------------+-----------+-------+---------+-------+---------+-------+-------+--------+---------+----------+-------------+-----------+------+---------+---------+-------+--------------+-------------+--------+----------+---------+-------------+----------+--------------+\n",
      "only showing top 20 rows\n",
      "\n"
     ]
    }
   ],
   "source": [
    "from pyspark.sql import SQLContext\n",
    "import pyspark\n",
    "import csv\n",
    "from pyspark import SparkContext\n",
    "sc = SparkContext.getOrCreate();\n",
    "sql_c = SQLContext(sc)\n",
    "fifa_df = sql_c.read.format('csv').options(header='true', inferschema='true').load('data_pemain.csv')\n",
    "fifa_df.select('Name', 'Club', 'Jersey Number').show()\n",
    "fifa_df.show()"
   ]
  },
  {
   "cell_type": "code",
   "execution_count": 16,
   "metadata": {},
   "outputs": [
    {
     "name": "stdout",
     "output_type": "stream",
     "text": [
      "root\n",
      " |-- _c0: integer (nullable = true)\n",
      " |-- ID: integer (nullable = true)\n",
      " |-- Name: string (nullable = true)\n",
      " |-- Age: integer (nullable = true)\n",
      " |-- Photo: string (nullable = true)\n",
      " |-- Nationality: string (nullable = true)\n",
      " |-- Flag: string (nullable = true)\n",
      " |-- Overall: integer (nullable = true)\n",
      " |-- Potential: integer (nullable = true)\n",
      " |-- Club: string (nullable = true)\n",
      " |-- Club Logo: string (nullable = true)\n",
      " |-- Value: string (nullable = true)\n",
      " |-- Wage: string (nullable = true)\n",
      " |-- Special: integer (nullable = true)\n",
      " |-- Preferred Foot: string (nullable = true)\n",
      " |-- International Reputation: integer (nullable = true)\n",
      " |-- Weak Foot: integer (nullable = true)\n",
      " |-- Skill Moves: integer (nullable = true)\n",
      " |-- Work Rate: string (nullable = true)\n",
      " |-- Body Type: string (nullable = true)\n",
      " |-- Real Face: string (nullable = true)\n",
      " |-- Position: string (nullable = true)\n",
      " |-- Jersey Number: integer (nullable = true)\n",
      " |-- Joined: string (nullable = true)\n",
      " |-- Loaned From: string (nullable = true)\n",
      " |-- Contract Valid Until: string (nullable = true)\n",
      " |-- Height: string (nullable = true)\n",
      " |-- Weight: string (nullable = true)\n",
      " |-- LS: string (nullable = true)\n",
      " |-- ST: string (nullable = true)\n",
      " |-- RS: string (nullable = true)\n",
      " |-- LW: string (nullable = true)\n",
      " |-- LF: string (nullable = true)\n",
      " |-- CF: string (nullable = true)\n",
      " |-- RF: string (nullable = true)\n",
      " |-- RW: string (nullable = true)\n",
      " |-- LAM: string (nullable = true)\n",
      " |-- CAM: string (nullable = true)\n",
      " |-- RAM: string (nullable = true)\n",
      " |-- LM: string (nullable = true)\n",
      " |-- LCM: string (nullable = true)\n",
      " |-- CM: string (nullable = true)\n",
      " |-- RCM: string (nullable = true)\n",
      " |-- RM: string (nullable = true)\n",
      " |-- LWB: string (nullable = true)\n",
      " |-- LDM: string (nullable = true)\n",
      " |-- CDM: string (nullable = true)\n",
      " |-- RDM: string (nullable = true)\n",
      " |-- RWB: string (nullable = true)\n",
      " |-- LB: string (nullable = true)\n",
      " |-- LCB: string (nullable = true)\n",
      " |-- CB: string (nullable = true)\n",
      " |-- RCB: string (nullable = true)\n",
      " |-- RB: string (nullable = true)\n",
      " |-- Crossing: integer (nullable = true)\n",
      " |-- Finishing: integer (nullable = true)\n",
      " |-- HeadingAccuracy: integer (nullable = true)\n",
      " |-- ShortPassing: integer (nullable = true)\n",
      " |-- Volleys: integer (nullable = true)\n",
      " |-- Dribbling: integer (nullable = true)\n",
      " |-- Curve: integer (nullable = true)\n",
      " |-- FKAccuracy: integer (nullable = true)\n",
      " |-- LongPassing: integer (nullable = true)\n",
      " |-- BallControl: integer (nullable = true)\n",
      " |-- Acceleration: integer (nullable = true)\n",
      " |-- SprintSpeed: integer (nullable = true)\n",
      " |-- Agility: integer (nullable = true)\n",
      " |-- Reactions: integer (nullable = true)\n",
      " |-- Balance: integer (nullable = true)\n",
      " |-- ShotPower: integer (nullable = true)\n",
      " |-- Jumping: integer (nullable = true)\n",
      " |-- Stamina: integer (nullable = true)\n",
      " |-- Strength: integer (nullable = true)\n",
      " |-- LongShots: integer (nullable = true)\n",
      " |-- Aggression: integer (nullable = true)\n",
      " |-- Interceptions: integer (nullable = true)\n",
      " |-- Positioning: integer (nullable = true)\n",
      " |-- Vision: integer (nullable = true)\n",
      " |-- Penalties: integer (nullable = true)\n",
      " |-- Composure: integer (nullable = true)\n",
      " |-- Marking: integer (nullable = true)\n",
      " |-- StandingTackle: integer (nullable = true)\n",
      " |-- SlidingTackle: integer (nullable = true)\n",
      " |-- GKDiving: integer (nullable = true)\n",
      " |-- GKHandling: integer (nullable = true)\n",
      " |-- GKKicking: integer (nullable = true)\n",
      " |-- GKPositioning: integer (nullable = true)\n",
      " |-- GKReflexes: integer (nullable = true)\n",
      " |-- Release Clause: string (nullable = true)\n",
      "\n"
     ]
    }
   ],
   "source": [
    "fifa_df.printSchema()"
   ]
  },
  {
   "cell_type": "code",
   "execution_count": 3,
   "metadata": {},
   "outputs": [
    {
     "data": {
      "text/plain": [
       "['_c0',\n",
       " 'ID',\n",
       " 'Name',\n",
       " 'Age',\n",
       " 'Photo',\n",
       " 'Nationality',\n",
       " 'Flag',\n",
       " 'Overall',\n",
       " 'Potential',\n",
       " 'Club',\n",
       " 'Club Logo',\n",
       " 'Value',\n",
       " 'Wage',\n",
       " 'Special',\n",
       " 'Preferred Foot',\n",
       " 'International Reputation',\n",
       " 'Weak Foot',\n",
       " 'Skill Moves',\n",
       " 'Work Rate',\n",
       " 'Body Type',\n",
       " 'Real Face',\n",
       " 'Position',\n",
       " 'Jersey Number',\n",
       " 'Joined',\n",
       " 'Loaned From',\n",
       " 'Contract Valid Until',\n",
       " 'Height',\n",
       " 'Weight',\n",
       " 'LS',\n",
       " 'ST',\n",
       " 'RS',\n",
       " 'LW',\n",
       " 'LF',\n",
       " 'CF',\n",
       " 'RF',\n",
       " 'RW',\n",
       " 'LAM',\n",
       " 'CAM',\n",
       " 'RAM',\n",
       " 'LM',\n",
       " 'LCM',\n",
       " 'CM',\n",
       " 'RCM',\n",
       " 'RM',\n",
       " 'LWB',\n",
       " 'LDM',\n",
       " 'CDM',\n",
       " 'RDM',\n",
       " 'RWB',\n",
       " 'LB',\n",
       " 'LCB',\n",
       " 'CB',\n",
       " 'RCB',\n",
       " 'RB',\n",
       " 'Crossing',\n",
       " 'Finishing',\n",
       " 'HeadingAccuracy',\n",
       " 'ShortPassing',\n",
       " 'Volleys',\n",
       " 'Dribbling',\n",
       " 'Curve',\n",
       " 'FKAccuracy',\n",
       " 'LongPassing',\n",
       " 'BallControl',\n",
       " 'Acceleration',\n",
       " 'SprintSpeed',\n",
       " 'Agility',\n",
       " 'Reactions',\n",
       " 'Balance',\n",
       " 'ShotPower',\n",
       " 'Jumping',\n",
       " 'Stamina',\n",
       " 'Strength',\n",
       " 'LongShots',\n",
       " 'Aggression',\n",
       " 'Interceptions',\n",
       " 'Positioning',\n",
       " 'Vision',\n",
       " 'Penalties',\n",
       " 'Composure',\n",
       " 'Marking',\n",
       " 'StandingTackle',\n",
       " 'SlidingTackle',\n",
       " 'GKDiving',\n",
       " 'GKHandling',\n",
       " 'GKKicking',\n",
       " 'GKPositioning',\n",
       " 'GKReflexes',\n",
       " 'Release Clause']"
      ]
     },
     "execution_count": 3,
     "metadata": {},
     "output_type": "execute_result"
    }
   ],
   "source": [
    "fifa_df.columns"
   ]
  },
  {
   "cell_type": "code",
   "execution_count": 4,
   "metadata": {},
   "outputs": [
    {
     "data": {
      "text/plain": [
       "3303"
      ]
     },
     "execution_count": 4,
     "metadata": {},
     "output_type": "execute_result"
    }
   ],
   "source": [
    "fifa_df.count()"
   ]
  },
  {
   "cell_type": "code",
   "execution_count": 5,
   "metadata": {},
   "outputs": [
    {
     "name": "stdout",
     "output_type": "stream",
     "text": [
      "+-------+--------------------+\n",
      "|summary|                Club|\n",
      "+-------+--------------------+\n",
      "|  count|                3257|\n",
      "|   mean|                null|\n",
      "| stddev|                null|\n",
      "|    min|1. FC Heidenheim ...|\n",
      "|    max|     �aykur Rizespor|\n",
      "+-------+--------------------+\n",
      "\n"
     ]
    }
   ],
   "source": [
    "fifa_df.describe('Club').show()"
   ]
  },
  {
   "cell_type": "code",
   "execution_count": 6,
   "metadata": {},
   "outputs": [
    {
     "name": "stdout",
     "output_type": "stream",
     "text": [
      "+-----------------+-------------------+\n",
      "|             Name|               Club|\n",
      "+-----------------+-------------------+\n",
      "|         L. Messi|       FC Barcelona|\n",
      "|Cristiano Ronaldo|           Juventus|\n",
      "|        Neymar Jr|Paris Saint-Germain|\n",
      "|           De Gea|  Manchester United|\n",
      "|     K. De Bruyne|    Manchester City|\n",
      "|        E. Hazard|            Chelsea|\n",
      "|        L. Modri?|        Real Madrid|\n",
      "|        L. Su�rez|       FC Barcelona|\n",
      "|     Sergio Ramos|        Real Madrid|\n",
      "|         J. Oblak|    Atl�tico Madrid|\n",
      "|   R. Lewandowski|  FC Bayern M�nchen|\n",
      "|         T. Kroos|        Real Madrid|\n",
      "|         D. God�n|    Atl�tico Madrid|\n",
      "|      David Silva|    Manchester City|\n",
      "|         N. Kant�|            Chelsea|\n",
      "|        P. Dybala|           Juventus|\n",
      "|          H. Kane|  Tottenham Hotspur|\n",
      "|     A. Griezmann|    Atl�tico Madrid|\n",
      "|    M. ter Stegen|       FC Barcelona|\n",
      "|      T. Courtois|        Real Madrid|\n",
      "+-----------------+-------------------+\n",
      "only showing top 20 rows\n",
      "\n"
     ]
    }
   ],
   "source": [
    "fifa_df.select('Name','Club').show()"
   ]
  },
  {
   "cell_type": "code",
   "execution_count": 7,
   "metadata": {},
   "outputs": [
    {
     "name": "stdout",
     "output_type": "stream",
     "text": [
      "+---+------+--------------------+---+--------------------+-----------+--------------------+-------+---------+---------+--------------------+------+-----+-------+--------------+------------------------+---------+-----------+--------------+-------------------+---------+--------+-------------+---------+-----------+--------------------+------+------+----+----+----+----+----+----+----+----+----+----+----+----+----+----+----+----+----+----+----+----+----+----+----+----+----+----+--------+---------+---------------+------------+-------+---------+-----+----------+-----------+-----------+------------+-----------+-------+---------+-------+---------+-------+-------+--------+---------+----------+-------------+-----------+------+---------+---------+-------+--------------+-------------+--------+----------+---------+-------------+----------+--------------+\n",
      "|_c0|    ID|                Name|Age|               Photo|Nationality|                Flag|Overall|Potential|     Club|           Club Logo| Value| Wage|Special|Preferred Foot|International Reputation|Weak Foot|Skill Moves|     Work Rate|          Body Type|Real Face|Position|Jersey Number|   Joined|Loaned From|Contract Valid Until|Height|Weight|  LS|  ST|  RS|  LW|  LF|  CF|  RF|  RW| LAM| CAM| RAM|  LM| LCM|  CM| RCM|  RM| LWB| LDM| CDM| RDM| RWB|  LB| LCB|  CB| RCB|  RB|Crossing|Finishing|HeadingAccuracy|ShortPassing|Volleys|Dribbling|Curve|FKAccuracy|LongPassing|BallControl|Acceleration|SprintSpeed|Agility|Reactions|Balance|ShotPower|Jumping|Stamina|Strength|LongShots|Aggression|Interceptions|Positioning|Vision|Penalties|Composure|Marking|StandingTackle|SlidingTackle|GKDiving|GKHandling|GKKicking|GKPositioning|GKReflexes|Release Clause|\n",
      "+---+------+--------------------+---+--------------------+-----------+--------------------+-------+---------+---------+--------------------+------+-----+-------+--------------+------------------------+---------+-----------+--------------+-------------------+---------+--------+-------------+---------+-----------+--------------------+------+------+----+----+----+----+----+----+----+----+----+----+----+----+----+----+----+----+----+----+----+----+----+----+----+----+----+----+--------+---------+---------------+------------+-------+---------+-----+----------+-----------+-----------+------------+-----------+-------+---------+-------+---------+-------+-------+--------+---------+----------+-------------+-----------+------+---------+---------+-------+--------------+-------------+--------+----------+---------+-------------+----------+--------------+\n",
      "| 26|209331|            M. Salah| 26|https://cdn.sofif...|      Egypt|https://cdn.sofif...|     88|       89|Liverpool|https://cdn.sofif...|�69.5M|�255K|   2146|          Left|                       3|        3|          4|  High/ Medium|PLAYER_BODY_TYPE_25|      Yes|      RM|           10| 1-Jul-17|       null|                2023|   5'9|157lbs|83+3|83+3|83+3|87+3|86+3|86+3|86+3|87+3|86+3|86+3|86+3|86+3|80+3|80+3|80+3|86+3|70+3|66+3|66+3|66+3|70+3|66+3|57+3|57+3|57+3|66+3|      78|       90|             59|          82|     73|       89|   83|        60|         72|         88|          94|         91|     91|       91|     88|       77|     68|     84|      70|       83|        63|           55|         90|    82|       61|       91|     38|            43|           41|      14|        14|        9|           11|        14|       �137.3M|\n",
      "| 58|208722|             S. Man�| 26|https://cdn.sofif...|    Senegal|https://cdn.sofif...|     86|       87|Liverpool|https://cdn.sofif...|  �52M|�195K|   2110|         Right|                       3|        4|          4|  High/ Medium|               Lean|      Yes|      LM|           10| 1-Jul-16|       null|                2023|   5'9|152lbs|81+3|81+3|81+3|84+3|84+3|84+3|84+3|84+3|83+3|83+3|83+3|83+3|77+3|77+3|77+3|83+3|66+3|63+3|63+3|63+3|66+3|62+3|55+3|55+3|55+3|62+3|      73|       84|             62|          79|     71|       87|   74|        64|         71|         86|          95|         93|     91|       86|     86|       82|     75|     84|      67|       74|        73|           35|         87|    82|       71|       80|     42|            42|           38|      10|        10|       15|            7|        14|       �102.7M|\n",
      "| 59|203376|         V. van Dijk| 26|https://cdn.sofif...|Netherlands|https://cdn.sofif...|     86|       88|Liverpool|https://cdn.sofif...|�44.5M|�165K|   2046|         Right|                       3|        3|          2|Medium/ Medium|             Normal|      Yes|     LCB|            4| 1-Jan-18|       null|                2023|   6'4|203lbs|68+3|68+3|68+3|65+3|66+3|66+3|66+3|65+3|67+3|67+3|67+3|67+3|71+3|71+3|71+3|67+3|76+3|80+3|80+3|80+3|76+3|78+3|85+3|85+3|85+3|78+3|      53|       52|             82|          76|     45|       70|   60|        70|         78|         73|          74|         77|     61|       85|     49|       81|     85|     71|      92|       64|        81|           86|         41|    59|       62|       83|     88|            89|           84|      13|        10|       13|           11|        11|        �87.9M|\n",
      "| 61|201942|     Roberto Firmino| 26|https://cdn.sofif...|     Brazil|https://cdn.sofif...|     86|       87|Liverpool|https://cdn.sofif...|  �53M|�195K|   2187|         Right|                       3|        4|          4|    High/ High|               Lean|      Yes|     CAM|            9| 6-Jul-15|       null|                2023|  5'11|168lbs|83+3|83+3|83+3|83+3|84+3|84+3|84+3|83+3|84+3|84+3|84+3|83+3|82+3|82+3|82+3|83+3|72+3|73+3|73+3|73+3|72+3|69+3|67+3|67+3|67+3|69+3|      72|       87|             77|          86|     81|       87|   80|        65|         75|         88|          78|         77|     80|       86|     81|       81|     81|     90|      74|       76|        73|           58|         87|    85|       72|       87|     60|            64|           42|       8|        11|        9|            6|        10|       �104.7M|\n",
      "| 81|212831|             Alisson| 25|https://cdn.sofif...|     Brazil|https://cdn.sofif...|     85|       90|Liverpool|https://cdn.sofif...|�36.5M|�115K|   1320|         Right|                       3|        3|          1|Medium/ Medium|             Normal|      Yes|      GK|           13|19-Jul-18|       null|                2024|   6'3|201lbs|null|null|null|null|null|null|null|null|null|null|null|null|null|null|null|null|null|null|null|null|null|null|null|null|null|null|      17|       13|             19|          45|     20|       27|   19|        18|         44|         30|          54|         45|     40|       84|     37|       21|     52|     32|      78|       14|        27|           11|         13|    66|       23|       65|     15|            19|           16|      83|        81|       85|           84|        88|        �72.1M|\n",
      "|118|209499|             Fabinho| 24|https://cdn.sofif...|     Brazil|https://cdn.sofif...|     84|       88|Liverpool|https://cdn.sofif...|  �34M|�120K|   2164|         Right|                       3|        2|          3|Medium/ Medium|               Lean|       No|     CDM|            3| 1-Jul-18|       null|                2023|   6'2|172lbs|73+3|73+3|73+3|75+3|75+3|75+3|75+3|75+3|76+3|76+3|76+3|77+3|79+3|79+3|79+3|77+3|82+3|83+3|83+3|83+3|82+3|82+3|82+3|82+3|82+3|82+3|      79|       66|             75|          83|     47|       76|   71|        53|         78|         82|          69|         72|     69|       83|     67|       78|     75|     92|      79|       65|        85|           84|         70|    75|       91|       84|     83|            86|           84|      13|        12|        6|            8|         8|        �67.2M|\n",
      "|161|220971|            N. Ke�ta| 23|https://cdn.sofif...|     Guinea|https://cdn.sofif...|     83|       88|Liverpool|https://cdn.sofif...|  �34M|�120K|   2082|         Right|                       2|        4|          4|  High/ Medium|               Lean|      Yes|      CM|            8| 1-Jul-18|       null|                2023|   5'8|141lbs|73+2|73+2|73+2|79+2|79+2|79+2|79+2|79+2|82+2|82+2|82+2|79+2|81+2|81+2|81+2|79+2|73+2|76+2|76+2|76+2|73+2|70+2|66+2|66+2|66+2|70+2|      62|       74|             42|          88|     71|       88|   64|        70|         78|         88|          78|         60|     89|       82|     90|       76|     53|     82|      58|       73|        78|           75|         74|    81|       58|       79|     68|            62|           61|       7|        14|       15|           14|         9|        �67.2M|\n",
      "|241|216267|        A. Robertson| 24|https://cdn.sofif...|   Scotland|https://cdn.sofif...|     82|       87|Liverpool|https://cdn.sofif...|�24.5M| �98K|   2023|          Left|                       1|        2|          3|    High/ High|               Lean|      Yes|      LB|            3|21-Jul-17|       null|                2021|  5'10|141lbs|68+2|68+2|68+2|74+2|72+2|72+2|72+2|74+2|73+2|73+2|73+2|76+2|74+2|74+2|74+2|76+2|81+2|77+2|77+2|77+2|81+2|80+2|75+2|75+2|75+2|80+2|      86|       57|             63|          76|     32|       76|   74|        30|         68|         78|          81|         86|     78|       81|     74|       67|     59|     89|      66|       60|        78|           80|         66|    74|       55|       73|     80|            81|           78|      11|         8|       10|            7|        14|        �48.4M|\n",
      "|296|183711|        J. Henderson| 28|https://cdn.sofif...|    England|https://cdn.sofif...|     82|       82|Liverpool|https://cdn.sofif...|  �18M|�125K|   2163|         Right|                       2|        3|          3|  Medium/ High|             Normal|      Yes|     RCM|            8| 9-Jun-11|       null|                2020|   6'0|176lbs|72+2|72+2|72+2|75+2|75+2|75+2|75+2|75+2|77+2|77+2|77+2|77+2|80+2|80+2|80+2|77+2|79+2|80+2|80+2|80+2|79+2|78+2|76+2|76+2|76+2|78+2|      81|       67|             65|          84|     72|       73|   80|        74|         84|         80|          67|         66|     70|       80|     70|       77|     79|     91|      72|       71|        77|           80|         75|    83|       64|       78|     77|            79|           76|       7|        13|        7|            9|        13|        �34.2M|\n",
      "|302|181291|        G. Wijnaldum| 27|https://cdn.sofif...|Netherlands|https://cdn.sofif...|     82|       82|Liverpool|https://cdn.sofif...|  �23M|�130K|   2175|         Right|                       3|        3|          4|    High/ High|               Lean|      Yes|     CAM|            8|22-Jul-16|       null|                2021|   5'9|152lbs|76+3|76+3|76+3|78+3|79+3|79+3|79+3|78+3|79+3|79+3|79+3|79+3|80+3|80+3|80+3|79+3|76+3|77+3|77+3|77+3|76+3|75+3|73+3|73+3|73+3|75+3|      67|       70|             72|          84|     73|       84|   76|        70|         76|         84|          77|         76|     80|       82|     81|       76|     80|     85|      72|       71|        64|           76|         79|    78|       74|       82|     74|            75|           65|      16|         6|       14|           12|         6|        �43.7M|\n",
      "|368|195086|           D. Lovren| 28|https://cdn.sofif...|    Croatia|https://cdn.sofif...|     81|       82|Liverpool|https://cdn.sofif...|  �16M|�115K|   1726|         Right|                       2|        4|          2|  Medium/ High|             Normal|      Yes|     RCB|            6|27-Jul-14|       null|                2021|   6'2|185lbs|54+2|54+2|54+2|54+2|54+2|54+2|54+2|54+2|56+2|56+2|56+2|58+2|62+2|62+2|62+2|58+2|71+2|74+2|74+2|74+2|71+2|72+2|79+2|79+2|79+2|72+2|      59|       33|             80|          69|     42|       63|   26|        18|         66|         67|          54|         55|     50|       75|     41|       63|     81|     68|      82|       34|        87|           81|         21|    56|       52|       70|     77|            83|           85|      14|        14|       13|           10|         7|        �31.6M|\n",
      "|370|193348|          X. Shaqiri| 26|https://cdn.sofif...|Switzerland|https://cdn.sofif...|     81|       81|Liverpool|https://cdn.sofif...|  �19M|�130K|   2087|          Left|                       3|        4|          5|Medium/ Medium|            Shaqiri|      Yes|     CAM|           23|13-Jul-18|       null|                2023|   5'7|159lbs|75+3|75+3|75+3|80+3|79+3|79+3|79+3|80+3|80+3|80+3|80+3|80+3|77+3|77+3|77+3|80+3|67+3|66+3|66+3|66+3|67+3|63+3|55+3|55+3|55+3|63+3|      78|       71|             45|          81|     76|       86|   88|        84|         80|         84|          84|         77|     84|       80|     91|       87|     52|     75|      73|       84|        61|           55|         74|    81|       65|       82|     35|            49|           48|      13|        12|       12|           11|        11|        �36.1M|\n",
      "|409|138412|           J. Milner| 32|https://cdn.sofif...|    England|https://cdn.sofif...|     81|       81|Liverpool|https://cdn.sofif...|�13.5M|�120K|   2126|         Right|                       2|        4|          3|    High/ High|             Stocky|      Yes|      CM|            7| 1-Jul-15|       null|                2020|   5'9|154lbs|72+2|72+2|72+2|74+2|74+2|74+2|74+2|74+2|76+2|76+2|76+2|77+2|79+2|79+2|79+2|77+2|79+2|80+2|80+2|80+2|79+2|78+2|76+2|76+2|76+2|78+2|      86|       62|             66|          84|     76|       76|   81|        75|         81|         79|          63|         62|     69|       84|     73|       82|     62|     91|      71|       70|        82|           79|         72|    79|       83|       86|     74|            80|           79|       1|         1|        1|            1|         1|        �25.7M|\n",
      "|481|198784|A. Oxlade-Chamber...| 24|https://cdn.sofif...|    England|https://cdn.sofif...|     80|       85|Liverpool|https://cdn.sofif...|�19.5M| �94K|   2125|         Right|                       2|        4|          4|    High/ High|             Stocky|      Yes|      CM|           21|31-Aug-17|       null|                2022|   5'9|154lbs|73+2|73+2|73+2|80+2|79+2|79+2|79+2|80+2|80+2|80+2|80+2|80+2|78+2|78+2|78+2|80+2|76+2|75+2|75+2|75+2|76+2|73+2|68+2|68+2|68+2|73+2|      78|       69|             39|          80|     58|       84|   73|        60|         75|         84|          84|         85|     81|       78|     88|       80|     69|     82|      72|       76|        77|           72|         79|    81|       69|       77|     67|            70|           66|      16|         9|        6|            9|         9|        �38.5M|\n",
      "|483|197061|            J. Matip| 26|https://cdn.sofif...|   Cameroon|https://cdn.sofif...|     80|       82|Liverpool|https://cdn.sofif...|  �15M| �99K|   1846|         Right|                       2|        2|          2|Medium/ Medium|               Lean|      Yes|      CB|           32| 1-Jul-16|       null|                2020|   6'4|198lbs|61+2|61+2|61+2|61+2|62+2|62+2|62+2|61+2|65+2|65+2|65+2|64+2|71+2|71+2|71+2|64+2|73+2|77+2|77+2|77+2|73+2|74+2|79+2|79+2|79+2|74+2|      54|       36|             82|          77|     50|       65|   63|        22|         74|         69|          55|         69|     55|       80|     47|       66|     66|     73|      77|       48|        75|           83|         51|    72|       42|       75|     80|            84|           78|      11|        15|       10|            7|        10|        �29.6M|\n",
      "|515|180819|          A. Lallana| 30|https://cdn.sofif...|    England|https://cdn.sofif...|     80|       80|Liverpool|https://cdn.sofif...|�13.5M|�110K|   2086|         Right|                       3|        5|          4|    High/ High|               Lean|      Yes|      CM|           20| 1-Jul-14|       null|                2021|  5'10|161lbs|74+3|74+3|74+3|77+3|77+3|77+3|77+3|77+3|79+3|79+3|79+3|78+3|78+3|78+3|78+3|78+3|71+3|72+3|72+3|72+3|71+3|69+3|67+3|67+3|67+3|69+3|      74|       72|             67|          84|     72|       84|   77|        66|         76|         85|          70|         69|     78|       74|     75|       72|     70|     77|      64|       71|        76|           64|         75|    83|       70|       80|     61|            64|           62|       6|        15|       14|            8|        11|        �25.7M|\n",
      "|529|171833|        D. Sturridge| 28|https://cdn.sofif...|    England|https://cdn.sofif...|     80|       80|Liverpool|https://cdn.sofif...|�15.5M|�125K|   1837|          Left|                       3|        2|          4|   Medium/ Low|             Normal|      Yes|      ST|           15| 2-Jan-13|       null|                2019|  5'11|168lbs|77+3|77+3|77+3|76+3|78+3|78+3|78+3|76+3|76+3|76+3|76+3|74+3|68+3|68+3|68+3|74+3|50+3|49+3|49+3|49+3|50+3|46+3|41+3|41+3|41+3|46+3|      62|       83|             70|          72|     73|       79|   62|        68|         62|         80|          72|         78|     74|       78|     64|       82|     70|     55|      66|       79|        60|           22|         81|    74|       75|       81|     11|            24|           12|       7|        15|        9|            5|        13|        �29.5M|\n",
      "|665|190456|            N. Clyne| 27|https://cdn.sofif...|    England|https://cdn.sofif...|     79|       80|Liverpool|https://cdn.sofif...|�11.5M| �94K|   2016|         Right|                       2|        2|          3|  High/ Medium|             Normal|      Yes|      RB|            2| 1-Jul-15|       null|                2020|   5'9|148lbs|69+2|69+2|69+2|73+2|71+2|71+2|71+2|73+2|71+2|71+2|71+2|73+2|72+2|72+2|72+2|73+2|77+2|75+2|75+2|75+2|77+2|77+2|76+2|76+2|76+2|77+2|      78|       54|             68|          75|     45|       76|   64|        39|         66|         78|          77|         78|     79|       75|     75|       74|     69|     76|      67|       69|        76|           79|         72|    64|       46|       75|     78|            81|           82|      10|        11|       13|           15|         7|        �22.7M|\n",
      "|703|173426|         S. Mignolet| 30|https://cdn.sofif...|    Belgium|https://cdn.sofif...|     79|       79|Liverpool|https://cdn.sofif...|   �8M| �76K|   1254|         Right|                       3|        2|          1|Medium/ Medium|             Normal|      Yes|      GK|           12|25-Jun-13|       null|                2021|   6'4|192lbs|null|null|null|null|null|null|null|null|null|null|null|null|null|null|null|null|null|null|null|null|null|null|null|null|null|null|      11|       11|             16|          37|     16|       14|   16|        12|         34|         26|          50|         52|     34|       74|     52|       45|     69|     31|      72|       16|        34|           21|         14|    43|       41|       61|      7|            14|           16|      80|        74|       64|           76|        82|        �15.2M|\n",
      "|735|231281| T. Alexander-Arnold| 19|https://cdn.sofif...|    England|https://cdn.sofif...|     78|       88|Liverpool|https://cdn.sofif...|  �14M| �36K|   2025|         Right|                       1|        3|          3|  High/ Medium|               Lean|      Yes|      RB|           14| 7-Oct-15|       null|                2021|  5'11|152lbs|66+2|66+2|66+2|71+2|69+2|69+2|69+2|71+2|71+2|71+2|71+2|73+2|72+2|72+2|72+2|73+2|76+2|74+2|74+2|74+2|76+2|75+2|71+2|71+2|71+2|75+2|      83|       56|             59|          76|     41|       72|   74|        74|         75|         72|          82|         79|     74|       75|     74|       70|     66|     79|      62|       63|        73|           76|         62|    72|       55|       74|     75|            76|           74|      14|        15|       14|            6|         7|        �29.4M|\n",
      "+---+------+--------------------+---+--------------------+-----------+--------------------+-------+---------+---------+--------------------+------+-----+-------+--------------+------------------------+---------+-----------+--------------+-------------------+---------+--------+-------------+---------+-----------+--------------------+------+------+----+----+----+----+----+----+----+----+----+----+----+----+----+----+----+----+----+----+----+----+----+----+----+----+----+----+--------+---------+---------------+------------+-------+---------+-----+----------+-----------+-----------+------------+-----------+-------+---------+-------+---------+-------+-------+--------+---------+----------+-------------+-----------+------+---------+---------+-------+--------------+-------------+--------+----------+---------+-------------+----------+--------------+\n",
      "only showing top 20 rows\n",
      "\n"
     ]
    }
   ],
   "source": [
    "fifa_df.filter(fifa_df.Club=='Liverpool').show()"
   ]
  },
  {
   "cell_type": "code",
   "execution_count": 9,
   "metadata": {},
   "outputs": [
    {
     "name": "stdout",
     "output_type": "stream",
     "text": [
      "+--------------------+-------------+\n",
      "|                Name|Jersey Number|\n",
      "+--------------------+-------------+\n",
      "|            M. Salah|           10|\n",
      "|             S. Man�|           10|\n",
      "|         V. van Dijk|            4|\n",
      "|     Roberto Firmino|            9|\n",
      "|             Alisson|           13|\n",
      "|             Fabinho|            3|\n",
      "|            N. Ke�ta|            8|\n",
      "|        A. Robertson|            3|\n",
      "|        J. Henderson|            8|\n",
      "|        G. Wijnaldum|            8|\n",
      "|           D. Lovren|            6|\n",
      "|          X. Shaqiri|           23|\n",
      "|           J. Milner|            7|\n",
      "|A. Oxlade-Chamber...|           21|\n",
      "|            J. Matip|           32|\n",
      "|          A. Lallana|           20|\n",
      "|        D. Sturridge|           15|\n",
      "|            N. Clyne|            2|\n",
      "|         S. Mignolet|           12|\n",
      "| T. Alexander-Arnold|           14|\n",
      "+--------------------+-------------+\n",
      "only showing top 20 rows\n",
      "\n"
     ]
    }
   ],
   "source": [
    "liverpool = fifa_df.filter(fifa_df.Club=='Liverpool')\n",
    "liverpool.select('Name','Jersey Number').show()"
   ]
  },
  {
   "cell_type": "code",
   "execution_count": 20,
   "metadata": {},
   "outputs": [
    {
     "name": "stdout",
     "output_type": "stream",
     "text": [
      "+------------+-------------+--------+-----------+\n",
      "|        Name|Jersey Number|Position|Nationality|\n",
      "+------------+-------------+--------+-----------+\n",
      "| V. van Dijk|            4|     LCB|Netherlands|\n",
      "|G. Wijnaldum|            8|     CAM|Netherlands|\n",
      "+------------+-------------+--------+-----------+\n",
      "\n"
     ]
    }
   ],
   "source": [
    "german_striker = fifa_df.filter(((fifa_df.Position==\"LCB\") | (fifa_df.Position==\"CAM\")) & ((fifa_df.Nationality==\"Netherlands\") & (fifa_df.Club==\"Liverpool\")) )\n",
    "german_striker.select('Name','Jersey Number', 'Position', 'Nationality').show()"
   ]
  },
  {
   "cell_type": "code",
   "execution_count": null,
   "metadata": {},
   "outputs": [],
   "source": []
  }
 ],
 "metadata": {
  "kernelspec": {
   "display_name": "Python 2",
   "language": "python",
   "name": "python2"
  },
  "language_info": {
   "codemirror_mode": {
    "name": "ipython",
    "version": 2
   },
   "file_extension": ".py",
   "mimetype": "text/x-python",
   "name": "python",
   "nbconvert_exporter": "python",
   "pygments_lexer": "ipython2",
   "version": "2.7.15rc1"
  }
 },
 "nbformat": 4,
 "nbformat_minor": 2
}
