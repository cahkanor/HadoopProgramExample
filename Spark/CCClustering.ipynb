{
 "cells": [
  {
   "cell_type": "code",
   "execution_count": 1,
   "metadata": {},
   "outputs": [],
   "source": [
    "import urllib\n",
    "f = urllib.urlretrieve (\"http://malifauzi.lecture.ub.ac.id/files/2019/05/ccdata2.zip\", \"ccdata2.zip\")"
   ]
  },
  {
   "cell_type": "markdown",
   "metadata": {},
   "source": [
    "### Membaca data dari file"
   ]
  },
  {
   "cell_type": "code",
   "execution_count": 12,
   "metadata": {},
   "outputs": [
    {
     "name": "stdout",
     "output_type": "stream",
     "text": [
      "+-------+-----------+-----------------+---------+----------------+----------------------+------------+-------------------+--------------------------+--------------------------------+----------------------+----------------+-------------+------------+-----------+----------------+----------------+------+\n",
      "|CUST_ID|    BALANCE|BALANCE_FREQUENCY|PURCHASES|ONEOFF_PURCHASES|INSTALLMENTS_PURCHASES|CASH_ADVANCE|PURCHASES_FREQUENCY|ONEOFF_PURCHASES_FREQUENCY|PURCHASES_INSTALLMENTS_FREQUENCY|CASH_ADVANCE_FREQUENCY|CASH_ADVANCE_TRX|PURCHASES_TRX|CREDIT_LIMIT|   PAYMENTS|MINIMUM_PAYMENTS|PRC_FULL_PAYMENT|TENURE|\n",
      "+-------+-----------+-----------------+---------+----------------+----------------------+------------+-------------------+--------------------------+--------------------------------+----------------------+----------------+-------------+------------+-----------+----------------+----------------+------+\n",
      "| C10001|  40.900749|         0.818182|     95.4|             0.0|                  95.4|         0.0|           0.166667|                       0.0|                        0.083333|                   0.0|               0|            2|        1000| 201.802084|      139.509787|             0.0|    12|\n",
      "| C10002|3202.467416|         0.909091|      0.0|             0.0|                   0.0| 6442.945483|                0.0|                       0.0|                             0.0|                  0.25|               4|            0|        7000|4103.032597|     1072.340217|        0.222222|    12|\n",
      "| C10003|2495.148862|              1.0|   773.17|          773.17|                   0.0|         0.0|                1.0|                       1.0|                             0.0|                   0.0|               0|           12|        7500| 622.066742|      627.284787|             0.0|    12|\n",
      "| C10004|1666.670542|         0.636364|   1499.0|          1499.0|                   0.0|  205.788017|           0.083333|                  0.083333|                             0.0|              0.083333|               1|            1|        7500|        0.0|            null|             0.0|    12|\n",
      "| C10005| 817.714335|              1.0|     16.0|            16.0|                   0.0|         0.0|           0.083333|                  0.083333|                             0.0|                   0.0|               0|            1|        1200| 678.334763|      244.791237|             0.0|    12|\n",
      "| C10006|1809.828751|              1.0|  1333.28|             0.0|               1333.28|         0.0|           0.666667|                       0.0|                        0.583333|                   0.0|               0|            8|        1800| 1400.05777|     2407.246035|             0.0|    12|\n",
      "| C10007| 627.260806|              1.0|  7091.01|         6402.63|                688.38|         0.0|                1.0|                       1.0|                             1.0|                   0.0|               0|           64|       13500|6354.314328|      198.065894|             1.0|    12|\n",
      "| C10008|1823.652743|              1.0|    436.2|             0.0|                 436.2|         0.0|                1.0|                       0.0|                             1.0|                   0.0|               0|           12|        2300| 679.065082|       532.03399|             0.0|    12|\n",
      "| C10009|1014.926473|              1.0|   861.49|          661.49|                 200.0|         0.0|           0.333333|                  0.083333|                            0.25|                   0.0|               0|            5|        7000| 688.278568|      311.963409|             0.0|    12|\n",
      "| C10010| 152.225975|         0.545455|   1281.6|          1281.6|                   0.0|         0.0|           0.166667|                  0.166667|                             0.0|                   0.0|               0|            3|       11000|1164.770591|      100.302262|             0.0|    12|\n",
      "| C10011|1293.124939|              1.0|   920.12|             0.0|                920.12|         0.0|                1.0|                       0.0|                             1.0|                   0.0|               0|           12|        1200|1083.301007|     2172.697765|             0.0|    12|\n",
      "| C10012| 630.794744|         0.818182|  1492.18|         1492.18|                   0.0|         0.0|               0.25|                      0.25|                             0.0|                   0.0|               0|            6|        2000| 705.618627|      155.549069|             0.0|    12|\n",
      "| C10013| 1516.92862|              1.0|  3217.99|         2500.23|                717.76|         0.0|                1.0|                      0.25|                        0.916667|                   0.0|               0|           26|        3000| 608.263689|      490.207013|            0.25|    12|\n",
      "| C10014| 921.693369|              1.0|  2137.93|          419.96|               1717.97|         0.0|               0.75|                  0.166667|                            0.75|                   0.0|               0|           26|        7500|1655.891435|      251.137986|        0.083333|    12|\n",
      "| C10015|2772.772734|              1.0|      0.0|             0.0|                   0.0|   346.81139|                0.0|                       0.0|                             0.0|              0.083333|               1|            0|        3000| 805.647974|      989.962866|             0.0|    12|\n",
      "| C10016|6886.213231|              1.0|   1611.7|             0.0|                1611.7| 2301.491267|                0.5|                       0.0|                             0.5|              0.166667|               4|           11|        8000|1993.439277|      2109.90649|             0.0|    12|\n",
      "| C10017|2072.074354|            0.875|      0.0|             0.0|                   0.0| 2784.274703|                0.0|                       0.0|                             0.0|                  0.25|               3|            0|        3000| 391.974562|      376.579631|             0.0|     8|\n",
      "| C10018|  41.089489|         0.454545|    519.0|             0.0|                 519.0|         0.0|           0.416667|                       0.0|                        0.333333|                   0.0|               0|            8|        2500| 254.590662|       73.203221|            0.25|    12|\n",
      "| C10019|1989.072228|              1.0|   504.35|           166.0|                338.35|         0.0|           0.666667|                  0.083333|                        0.583333|                   0.0|               0|            9|       13000|1720.837373|      744.613395|             0.0|    12|\n",
      "| C10020|3577.970933|              1.0|   398.64|             0.0|                398.64|         0.0|                1.0|                       0.0|                             1.0|                   0.0|               0|           12|        4000|1053.980464|     12465.54938|             0.0|    12|\n",
      "+-------+-----------+-----------------+---------+----------------+----------------------+------------+-------------------+--------------------------+--------------------------------+----------------------+----------------+-------------+------------+-----------+----------------+----------------+------+\n",
      "only showing top 20 rows\n",
      "\n"
     ]
    }
   ],
   "source": [
    "dataset = spark.read.format(\"csv\").options(header='true', inferschema='true').load(\"ccdata2.csv\")\n",
    "dataset.show()"
   ]
  },
  {
   "cell_type": "markdown",
   "metadata": {},
   "source": [
    "### Menentukan Fitur"
   ]
  },
  {
   "cell_type": "code",
   "execution_count": 13,
   "metadata": {},
   "outputs": [
    {
     "name": "stdout",
     "output_type": "stream",
     "text": [
      "+-------+--------------------+\n",
      "|CUST_ID|            features|\n",
      "+-------+--------------------+\n",
      "| C10001|[40.900749,0.8181...|\n",
      "| C10002|[3202.467416,0.90...|\n",
      "| C10003|[2495.148862,1.0,...|\n",
      "| C10004|[1666.670542,0.63...|\n",
      "| C10005|[817.714335,1.0,1...|\n",
      "| C10006|[1809.828751,1.0,...|\n",
      "| C10007|[627.260806,1.0,7...|\n",
      "| C10008|[1823.652743,1.0,...|\n",
      "| C10009|[1014.926473,1.0,...|\n",
      "| C10010|[152.225975,0.545...|\n",
      "| C10011|[1293.124939,1.0,...|\n",
      "| C10012|[630.794744,0.818...|\n",
      "| C10013|[1516.92862,1.0,3...|\n",
      "| C10014|[921.693369,1.0,2...|\n",
      "| C10015|[2772.772734,1.0,...|\n",
      "| C10016|[6886.213231,1.0,...|\n",
      "| C10017|[2072.074354,0.87...|\n",
      "| C10018|[41.089489,0.4545...|\n",
      "| C10019|[1989.072228,1.0,...|\n",
      "| C10020|[3577.970933,1.0,...|\n",
      "+-------+--------------------+\n",
      "only showing top 20 rows\n",
      "\n"
     ]
    }
   ],
   "source": [
    "from pyspark.ml.feature import VectorAssembler\n",
    "\n",
    "vecAssembler = VectorAssembler(inputCols=[\"BALANCE\", \"BALANCE_FREQUENCY\", \"PURCHASES\"], outputCol=\"features\")\n",
    "new_dataset = vecAssembler.transform(dataset)\n",
    "new_dataset_f = new_dataset.select('CUST_ID', 'features')\n",
    "new_dataset_f.show()"
   ]
  },
  {
   "cell_type": "markdown",
   "metadata": {},
   "source": [
    "### Memilih algoritma dan menentukan parameter"
   ]
  },
  {
   "cell_type": "code",
   "execution_count": 14,
   "metadata": {},
   "outputs": [],
   "source": [
    "from pyspark.ml.clustering import KMeans\n",
    "kmeans = KMeans().setK(4).setSeed(1)"
   ]
  },
  {
   "cell_type": "markdown",
   "metadata": {},
   "source": [
    "### Membuat model"
   ]
  },
  {
   "cell_type": "code",
   "execution_count": 15,
   "metadata": {},
   "outputs": [],
   "source": [
    "model = kmeans.fit(new_dataset_f)"
   ]
  },
  {
   "cell_type": "markdown",
   "metadata": {},
   "source": [
    "### Melakukan clustering"
   ]
  },
  {
   "cell_type": "code",
   "execution_count": 16,
   "metadata": {},
   "outputs": [
    {
     "name": "stdout",
     "output_type": "stream",
     "text": [
      "+-------+--------------------+----------+\n",
      "|CUST_ID|            features|prediction|\n",
      "+-------+--------------------+----------+\n",
      "| C10001|[40.900749,0.8181...|         1|\n",
      "| C10002|[3202.467416,0.90...|         1|\n",
      "| C10003|[2495.148862,1.0,...|         1|\n",
      "| C10004|[1666.670542,0.63...|         1|\n",
      "| C10005|[817.714335,1.0,1...|         1|\n",
      "| C10006|[1809.828751,1.0,...|         1|\n",
      "| C10007|[627.260806,1.0,7...|         0|\n",
      "| C10008|[1823.652743,1.0,...|         1|\n",
      "| C10009|[1014.926473,1.0,...|         1|\n",
      "| C10010|[152.225975,0.545...|         1|\n",
      "| C10011|[1293.124939,1.0,...|         1|\n",
      "| C10012|[630.794744,0.818...|         1|\n",
      "| C10013|[1516.92862,1.0,3...|         0|\n",
      "| C10014|[921.693369,1.0,2...|         1|\n",
      "| C10015|[2772.772734,1.0,...|         1|\n",
      "| C10016|[6886.213231,1.0,...|         2|\n",
      "| C10017|[2072.074354,0.87...|         1|\n",
      "| C10018|[41.089489,0.4545...|         1|\n",
      "| C10019|[1989.072228,1.0,...|         1|\n",
      "| C10020|[3577.970933,1.0,...|         1|\n",
      "+-------+--------------------+----------+\n",
      "only showing top 20 rows\n",
      "\n"
     ]
    }
   ],
   "source": [
    "clustering_result = model.transform(new_dataset_f)\n",
    "clustering_result.show()"
   ]
  },
  {
   "cell_type": "markdown",
   "metadata": {},
   "source": [
    "### Menyimpan hasil pada file"
   ]
  },
  {
   "cell_type": "code",
   "execution_count": 17,
   "metadata": {},
   "outputs": [
    {
     "name": "stdout",
     "output_type": "stream",
     "text": [
      "+-------+----------+\n",
      "|CUST_ID|prediction|\n",
      "+-------+----------+\n",
      "| C10001|         1|\n",
      "| C10002|         1|\n",
      "| C10003|         1|\n",
      "| C10004|         1|\n",
      "| C10005|         1|\n",
      "| C10006|         1|\n",
      "| C10007|         0|\n",
      "| C10008|         1|\n",
      "| C10009|         1|\n",
      "| C10010|         1|\n",
      "| C10011|         1|\n",
      "| C10012|         1|\n",
      "| C10013|         0|\n",
      "| C10014|         1|\n",
      "| C10015|         1|\n",
      "| C10016|         2|\n",
      "| C10017|         1|\n",
      "| C10018|         1|\n",
      "| C10019|         1|\n",
      "| C10020|         1|\n",
      "+-------+----------+\n",
      "only showing top 20 rows\n",
      "\n"
     ]
    }
   ],
   "source": [
    "new_prediction = clustering_result.select('CUST_ID', 'prediction')\n",
    "new_prediction.show()\n",
    "#new_dataset_f.show()\n",
    "new_prediction.write.csv(\"/home/hduser/Documents/clusteringresult\", header = 'true')"
   ]
  },
  {
   "cell_type": "markdown",
   "metadata": {},
   "source": [
    "### Evaluasi hasil clustering"
   ]
  },
  {
   "cell_type": "code",
   "execution_count": 18,
   "metadata": {},
   "outputs": [
    {
     "name": "stdout",
     "output_type": "stream",
     "text": [
      "Silhouette with squared euclidean distance = 0.704114226048\n"
     ]
    }
   ],
   "source": [
    "from pyspark.ml.evaluation import ClusteringEvaluator\n",
    "# Evaluate clustering by computing Silhouette score\n",
    "evaluator = ClusteringEvaluator()\n",
    "\n",
    "silhouette = evaluator.evaluate(predictions)\n",
    "print(\"Silhouette with squared euclidean distance = \" + str(silhouette))"
   ]
  },
  {
   "cell_type": "code",
   "execution_count": 19,
   "metadata": {},
   "outputs": [
    {
     "name": "stdout",
     "output_type": "stream",
     "text": [
      "Cluster Centers: \n",
      "[  2.02384007e+03   9.75757600e-01   4.93597533e+03]\n",
      "[  1.19163583e+03   8.39585094e-01   5.80991990e+02]\n",
      "[  6.93374045e+03   1.00000000e+00   1.55772000e+03]\n",
      "[  8.52187991e+03   1.00000000e+00   1.45875312e+04]\n"
     ]
    }
   ],
   "source": [
    "# Shows the result.\n",
    "centers = model.clusterCenters()\n",
    "print(\"Cluster Centers: \")\n",
    "for center in centers:\n",
    "    print(center)"
   ]
  },
  {
   "cell_type": "code",
   "execution_count": null,
   "metadata": {},
   "outputs": [],
   "source": []
  }
 ],
 "metadata": {
  "kernelspec": {
   "display_name": "Python 2",
   "language": "python",
   "name": "python2"
  },
  "language_info": {
   "codemirror_mode": {
    "name": "ipython",
    "version": 2
   },
   "file_extension": ".py",
   "mimetype": "text/x-python",
   "name": "python",
   "nbconvert_exporter": "python",
   "pygments_lexer": "ipython2",
   "version": "2.7.15rc1"
  }
 },
 "nbformat": 4,
 "nbformat_minor": 2
}
