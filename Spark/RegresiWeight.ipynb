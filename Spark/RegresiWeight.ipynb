{
 "cells": [
  {
   "cell_type": "code",
   "execution_count": 5,
   "metadata": {},
   "outputs": [],
   "source": [
    "import urllib\n",
    "f = urllib.urlretrieve(\"http://malifauzi.lecture.ub.ac.id/files/2019/05/DatasetRegresi.zip\", \"DatasetRegresi.zip\")"
   ]
  },
  {
   "cell_type": "markdown",
   "metadata": {},
   "source": [
    "### Membaca data training dan data testing dari file"
   ]
  },
  {
   "cell_type": "code",
   "execution_count": 22,
   "metadata": {},
   "outputs": [
    {
     "name": "stdout",
     "output_type": "stream",
     "text": [
      "+-----+------------+-----------+\n",
      "|Index|Brain Weight|Body Weight|\n",
      "+-----+------------+-----------+\n",
      "|    1|       3.385|       44.5|\n",
      "|    2|        0.48|       15.5|\n",
      "|    3|        1.35|        8.1|\n",
      "|    4|       465.0|      423.0|\n",
      "|    5|       36.33|      119.5|\n",
      "|    6|       27.66|      115.0|\n",
      "|    7|       14.83|       98.2|\n",
      "|    8|        1.04|        5.5|\n",
      "|    9|        4.19|       58.0|\n",
      "|   10|       0.425|        6.4|\n",
      "|   11|       0.101|        4.0|\n",
      "|   12|        0.92|        5.7|\n",
      "|   13|         1.0|        6.6|\n",
      "|   14|       0.005|       0.14|\n",
      "|   15|        0.06|        1.0|\n",
      "|   16|         3.5|       10.8|\n",
      "|   17|         2.0|       12.3|\n",
      "|   18|         1.7|        6.3|\n",
      "|   19|      2547.0|     4603.0|\n",
      "|   20|       0.023|        0.3|\n",
      "+-----+------------+-----------+\n",
      "only showing top 20 rows\n",
      "\n",
      "+-----+------------+-----------+\n",
      "|Index|Brain Weight|Body Weight|\n",
      "+-----+------------+-----------+\n",
      "|   50|         3.6|       21.0|\n",
      "|   51|       4.288|       39.2|\n",
      "|   52|        0.28|        1.9|\n",
      "|   53|       0.075|        1.2|\n",
      "|   54|       0.122|        3.0|\n",
      "|   55|       0.048|       0.33|\n",
      "|   56|       192.0|      180.0|\n",
      "|   57|         3.0|       25.0|\n",
      "|   58|       160.0|      169.0|\n",
      "|   59|         0.9|        2.6|\n",
      "|   60|        1.62|       11.4|\n",
      "|   61|       0.104|        2.5|\n",
      "|   62|       4.235|       50.4|\n",
      "+-----+------------+-----------+\n",
      "\n"
     ]
    }
   ],
   "source": [
    "dataset_train = spark.read.format(\"csv\").options(header='true', inferschema='true').load(\"DatasetRegresi/weight_train.csv\")\n",
    "dataset_test = spark.read.format(\"csv\").options(header='true', inferschema='true').load(\"DatasetRegresi/weight_test.csv\")\n",
    "dataset_train.show()\n",
    "dataset_test.show()"
   ]
  },
  {
   "cell_type": "markdown",
   "metadata": {},
   "source": [
    "### Menentukan fitur Data Training"
   ]
  },
  {
   "cell_type": "code",
   "execution_count": 24,
   "metadata": {},
   "outputs": [
    {
     "name": "stdout",
     "output_type": "stream",
     "text": [
      "+-----+------------+-----------+--------+\n",
      "|Index|Brain Weight|Body Weight|features|\n",
      "+-----+------------+-----------+--------+\n",
      "|    1|       3.385|       44.5|  [44.5]|\n",
      "|    2|        0.48|       15.5|  [15.5]|\n",
      "|    3|        1.35|        8.1|   [8.1]|\n",
      "|    4|       465.0|      423.0| [423.0]|\n",
      "|    5|       36.33|      119.5| [119.5]|\n",
      "|    6|       27.66|      115.0| [115.0]|\n",
      "|    7|       14.83|       98.2|  [98.2]|\n",
      "|    8|        1.04|        5.5|   [5.5]|\n",
      "|    9|        4.19|       58.0|  [58.0]|\n",
      "|   10|       0.425|        6.4|   [6.4]|\n",
      "|   11|       0.101|        4.0|   [4.0]|\n",
      "|   12|        0.92|        5.7|   [5.7]|\n",
      "|   13|         1.0|        6.6|   [6.6]|\n",
      "|   14|       0.005|       0.14|  [0.14]|\n",
      "|   15|        0.06|        1.0|   [1.0]|\n",
      "|   16|         3.5|       10.8|  [10.8]|\n",
      "|   17|         2.0|       12.3|  [12.3]|\n",
      "|   18|         1.7|        6.3|   [6.3]|\n",
      "|   19|      2547.0|     4603.0|[4603.0]|\n",
      "|   20|       0.023|        0.3|   [0.3]|\n",
      "+-----+------------+-----------+--------+\n",
      "only showing top 20 rows\n",
      "\n"
     ]
    }
   ],
   "source": [
    "from pyspark.ml.feature import VectorAssembler\n",
    "\n",
    "vecAssembler = VectorAssembler(inputCols=[\"Body Weight\"], outputCol=\"features\")\n",
    "new_dataset_train = vecAssembler.transform(dataset_train)\n",
    "new_dataset_train.show()"
   ]
  },
  {
   "cell_type": "markdown",
   "metadata": {},
   "source": [
    "### Melakukan training / membuat model"
   ]
  },
  {
   "cell_type": "code",
   "execution_count": 25,
   "metadata": {},
   "outputs": [
    {
     "name": "stdout",
     "output_type": "stream",
     "text": [
      "Coefficients: [0.906398695346]\n",
      "Intercept: -71.3567595068\n"
     ]
    }
   ],
   "source": [
    "from pyspark.ml.regression import LinearRegression\n",
    "lr = LinearRegression(featuresCol = 'features', labelCol='Brain Weight', maxIter=10, regParam=0.3, elasticNetParam=0.8)\n",
    "lr_model = lr.fit(new_dataset_train)\n",
    "print(\"Coefficients: \" + str(lr_model.coefficients))\n",
    "print(\"Intercept: \" + str(lr_model.intercept))"
   ]
  },
  {
   "cell_type": "markdown",
   "metadata": {},
   "source": [
    "### mengevaluasi model"
   ]
  },
  {
   "cell_type": "code",
   "execution_count": 26,
   "metadata": {},
   "outputs": [
    {
     "name": "stdout",
     "output_type": "stream",
     "text": [
      "RMSE: 356.693715\n"
     ]
    }
   ],
   "source": [
    "trainingSummary = lr_model.summary\n",
    "print(\"RMSE: %f\" % trainingSummary.rootMeanSquaredError)"
   ]
  },
  {
   "cell_type": "markdown",
   "metadata": {},
   "source": [
    "### Tentukan fitur pada data testing"
   ]
  },
  {
   "cell_type": "code",
   "execution_count": 27,
   "metadata": {},
   "outputs": [
    {
     "name": "stdout",
     "output_type": "stream",
     "text": [
      "+-----+------------+-----------+--------+\n",
      "|Index|Brain Weight|Body Weight|features|\n",
      "+-----+------------+-----------+--------+\n",
      "|   50|         3.6|       21.0|  [21.0]|\n",
      "|   51|       4.288|       39.2|  [39.2]|\n",
      "|   52|        0.28|        1.9|   [1.9]|\n",
      "|   53|       0.075|        1.2|   [1.2]|\n",
      "|   54|       0.122|        3.0|   [3.0]|\n",
      "|   55|       0.048|       0.33|  [0.33]|\n",
      "|   56|       192.0|      180.0| [180.0]|\n",
      "|   57|         3.0|       25.0|  [25.0]|\n",
      "|   58|       160.0|      169.0| [169.0]|\n",
      "|   59|         0.9|        2.6|   [2.6]|\n",
      "|   60|        1.62|       11.4|  [11.4]|\n",
      "|   61|       0.104|        2.5|   [2.5]|\n",
      "|   62|       4.235|       50.4|  [50.4]|\n",
      "+-----+------------+-----------+--------+\n",
      "\n"
     ]
    }
   ],
   "source": [
    "from pyspark.ml.feature import VectorAssembler\n",
    "\n",
    "vecAssembler = VectorAssembler(inputCols=[\"Body Weight\"], outputCol=\"features\")\n",
    "new_dataset_test = vecAssembler.transform(dataset_test)\n",
    "new_dataset_test.show()"
   ]
  },
  {
   "cell_type": "markdown",
   "metadata": {},
   "source": [
    "### Prediksi pada data Testing"
   ]
  },
  {
   "cell_type": "code",
   "execution_count": 28,
   "metadata": {},
   "outputs": [
    {
     "name": "stdout",
     "output_type": "stream",
     "text": [
      "+-----+------------+-----------+--------+-------------------+\n",
      "|Index|Brain Weight|Body Weight|features|         prediction|\n",
      "+-----+------------+-----------+--------+-------------------+\n",
      "|   50|         3.6|       21.0|  [21.0]| -52.32238690449849|\n",
      "|   51|       4.288|       39.2|  [39.2]|-35.825930649207855|\n",
      "|   52|        0.28|        1.9|   [1.9]| -69.63460198560018|\n",
      "|   53|       0.075|        1.2|   [1.2]| -70.26908107234213|\n",
      "|   54|       0.122|        3.0|   [3.0]| -68.63756342071999|\n",
      "|   55|       0.048|       0.33|  [0.33]| -71.05764793729284|\n",
      "|   56|       192.0|      180.0| [180.0]|  91.79500565545808|\n",
      "|   57|         3.0|       25.0|  [25.0]| -48.69679212311593|\n",
      "|   58|       160.0|      169.0| [169.0]|  81.82462000665606|\n",
      "|   59|         0.9|        2.6|   [2.6]| -69.00012289885824|\n",
      "|   60|        1.62|       11.4|  [11.4]| -61.02381437981662|\n",
      "|   61|       0.104|        2.5|   [2.5]|  -69.0907627683928|\n",
      "|   62|       4.235|       50.4|  [50.4]|  -25.6742652613367|\n",
      "+-----+------------+-----------+--------+-------------------+\n",
      "\n"
     ]
    }
   ],
   "source": [
    "lr_predictions = lr_model.transform(new_dataset_test)\n",
    "lr_predictions.show()"
   ]
  },
  {
   "cell_type": "markdown",
   "metadata": {},
   "source": [
    "### Simpan hasil prediksi"
   ]
  },
  {
   "cell_type": "code",
   "execution_count": 29,
   "metadata": {},
   "outputs": [],
   "source": [
    "saved_prediction = lr_predictions.select('index', 'Brain Weight', 'Body Weight', 'prediction')\n",
    "saved_prediction.write.csv(\"/home/hduser/Documents/HasilRegresi\", header = 'true')"
   ]
  },
  {
   "cell_type": "markdown",
   "metadata": {},
   "source": [
    "### Mengevaluasi hasil prediksi pada Data Testing"
   ]
  },
  {
   "cell_type": "code",
   "execution_count": 30,
   "metadata": {},
   "outputs": [
    {
     "name": "stdout",
     "output_type": "stream",
     "text": [
      "RMSE on test data = 66.607\n"
     ]
    }
   ],
   "source": [
    "from pyspark.ml.evaluation import RegressionEvaluator\n",
    "lr_evaluator = RegressionEvaluator(predictionCol=\"prediction\", labelCol=\"Brain Weight\",metricName=\"rmse\")\n",
    "print(\"RMSE on test data = %g\" % lr_evaluator.evaluate(lr_predictions))"
   ]
  },
  {
   "cell_type": "code",
   "execution_count": null,
   "metadata": {},
   "outputs": [],
   "source": []
  }
 ],
 "metadata": {
  "kernelspec": {
   "display_name": "Python 2",
   "language": "python",
   "name": "python2"
  },
  "language_info": {
   "codemirror_mode": {
    "name": "ipython",
    "version": 2
   },
   "file_extension": ".py",
   "mimetype": "text/x-python",
   "name": "python",
   "nbconvert_exporter": "python",
   "pygments_lexer": "ipython2",
   "version": "2.7.15rc1"
  }
 },
 "nbformat": 4,
 "nbformat_minor": 2
}
